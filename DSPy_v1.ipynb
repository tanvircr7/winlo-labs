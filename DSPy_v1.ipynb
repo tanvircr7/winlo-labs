{
  "nbformat": 4,
  "nbformat_minor": 0,
  "metadata": {
    "colab": {
      "provenance": [],
      "authorship_tag": "ABX9TyPyuaUacFZq37XJag1GZv8Y",
      "include_colab_link": true
    },
    "kernelspec": {
      "name": "python3",
      "display_name": "Python 3"
    },
    "language_info": {
      "name": "python"
    }
  },
  "cells": [
    {
      "cell_type": "markdown",
      "metadata": {
        "id": "view-in-github",
        "colab_type": "text"
      },
      "source": [
        "<a href=\"https://colab.research.google.com/github/tanvircr7/winlo-labs/blob/main/DSPy_v1.ipynb\" target=\"_parent\"><img src=\"https://colab.research.google.com/assets/colab-badge.svg\" alt=\"Open In Colab\"/></a>"
      ]
    },
    {
      "cell_type": "code",
      "execution_count": 23,
      "metadata": {
        "colab": {
          "base_uri": "https://localhost:8080/"
        },
        "id": "rj10J5NA9gJZ",
        "outputId": "1068e64d-8b3b-4999-90a8-0ffad52bff63",
        "collapsed": true
      },
      "outputs": [
        {
          "output_type": "stream",
          "name": "stdout",
          "text": [
            "Requirement already satisfied: dspy in /usr/local/lib/python3.12/dist-packages (3.0.3)\n",
            "Requirement already satisfied: backoff>=2.2 in /usr/local/lib/python3.12/dist-packages (from dspy) (2.2.1)\n",
            "Requirement already satisfied: joblib~=1.3 in /usr/local/lib/python3.12/dist-packages (from dspy) (1.5.2)\n",
            "Requirement already satisfied: openai>=0.28.1 in /usr/local/lib/python3.12/dist-packages (from dspy) (1.104.2)\n",
            "Requirement already satisfied: regex>=2023.10.3 in /usr/local/lib/python3.12/dist-packages (from dspy) (2024.11.6)\n",
            "Requirement already satisfied: orjson>=3.9.0 in /usr/local/lib/python3.12/dist-packages (from dspy) (3.11.3)\n",
            "Requirement already satisfied: tqdm>=4.66.1 in /usr/local/lib/python3.12/dist-packages (from dspy) (4.67.1)\n",
            "Requirement already satisfied: requests>=2.31.0 in /usr/local/lib/python3.12/dist-packages (from dspy) (2.32.4)\n",
            "Requirement already satisfied: optuna>=3.4.0 in /usr/local/lib/python3.12/dist-packages (from dspy) (4.5.0)\n",
            "Requirement already satisfied: pydantic>=2.0 in /usr/local/lib/python3.12/dist-packages (from dspy) (2.11.7)\n",
            "Requirement already satisfied: magicattr>=0.1.6 in /usr/local/lib/python3.12/dist-packages (from dspy) (0.1.6)\n",
            "Requirement already satisfied: litellm>=1.64.0 in /usr/local/lib/python3.12/dist-packages (from dspy) (1.76.2)\n",
            "Requirement already satisfied: diskcache>=5.6.0 in /usr/local/lib/python3.12/dist-packages (from dspy) (5.6.3)\n",
            "Requirement already satisfied: json-repair>=0.30.0 in /usr/local/lib/python3.12/dist-packages (from dspy) (0.50.0)\n",
            "Requirement already satisfied: tenacity>=8.2.3 in /usr/local/lib/python3.12/dist-packages (from dspy) (8.5.0)\n",
            "Requirement already satisfied: anyio in /usr/local/lib/python3.12/dist-packages (from dspy) (4.10.0)\n",
            "Requirement already satisfied: asyncer==0.0.8 in /usr/local/lib/python3.12/dist-packages (from dspy) (0.0.8)\n",
            "Requirement already satisfied: cachetools>=5.5.0 in /usr/local/lib/python3.12/dist-packages (from dspy) (5.5.2)\n",
            "Requirement already satisfied: cloudpickle>=3.0.0 in /usr/local/lib/python3.12/dist-packages (from dspy) (3.1.1)\n",
            "Requirement already satisfied: rich>=13.7.1 in /usr/local/lib/python3.12/dist-packages (from dspy) (13.9.4)\n",
            "Requirement already satisfied: numpy>=1.26.0 in /usr/local/lib/python3.12/dist-packages (from dspy) (2.0.2)\n",
            "Requirement already satisfied: xxhash>=3.5.0 in /usr/local/lib/python3.12/dist-packages (from dspy) (3.5.0)\n",
            "Requirement already satisfied: gepa==0.0.7 in /usr/local/lib/python3.12/dist-packages (from gepa[dspy]==0.0.7->dspy) (0.0.7)\n",
            "Requirement already satisfied: idna>=2.8 in /usr/local/lib/python3.12/dist-packages (from anyio->dspy) (3.10)\n",
            "Requirement already satisfied: sniffio>=1.1 in /usr/local/lib/python3.12/dist-packages (from anyio->dspy) (1.3.1)\n",
            "Requirement already satisfied: typing_extensions>=4.5 in /usr/local/lib/python3.12/dist-packages (from anyio->dspy) (4.15.0)\n",
            "Requirement already satisfied: aiohttp>=3.10 in /usr/local/lib/python3.12/dist-packages (from litellm>=1.64.0->dspy) (3.12.15)\n",
            "Requirement already satisfied: click in /usr/local/lib/python3.12/dist-packages (from litellm>=1.64.0->dspy) (8.2.1)\n",
            "Requirement already satisfied: fastuuid>=0.12.0 in /usr/local/lib/python3.12/dist-packages (from litellm>=1.64.0->dspy) (0.12.0)\n",
            "Requirement already satisfied: httpx>=0.23.0 in /usr/local/lib/python3.12/dist-packages (from litellm>=1.64.0->dspy) (0.28.1)\n",
            "Requirement already satisfied: importlib-metadata>=6.8.0 in /usr/local/lib/python3.12/dist-packages (from litellm>=1.64.0->dspy) (8.7.0)\n",
            "Requirement already satisfied: jinja2<4.0.0,>=3.1.2 in /usr/local/lib/python3.12/dist-packages (from litellm>=1.64.0->dspy) (3.1.6)\n",
            "Requirement already satisfied: jsonschema<5.0.0,>=4.22.0 in /usr/local/lib/python3.12/dist-packages (from litellm>=1.64.0->dspy) (4.25.1)\n",
            "Requirement already satisfied: python-dotenv>=0.2.0 in /usr/local/lib/python3.12/dist-packages (from litellm>=1.64.0->dspy) (1.1.1)\n",
            "Requirement already satisfied: tiktoken>=0.7.0 in /usr/local/lib/python3.12/dist-packages (from litellm>=1.64.0->dspy) (0.11.0)\n",
            "Requirement already satisfied: tokenizers in /usr/local/lib/python3.12/dist-packages (from litellm>=1.64.0->dspy) (0.22.0)\n",
            "Requirement already satisfied: distro<2,>=1.7.0 in /usr/local/lib/python3.12/dist-packages (from openai>=0.28.1->dspy) (1.9.0)\n",
            "Requirement already satisfied: jiter<1,>=0.4.0 in /usr/local/lib/python3.12/dist-packages (from openai>=0.28.1->dspy) (0.10.0)\n",
            "Requirement already satisfied: alembic>=1.5.0 in /usr/local/lib/python3.12/dist-packages (from optuna>=3.4.0->dspy) (1.16.5)\n",
            "Requirement already satisfied: colorlog in /usr/local/lib/python3.12/dist-packages (from optuna>=3.4.0->dspy) (6.9.0)\n",
            "Requirement already satisfied: packaging>=20.0 in /usr/local/lib/python3.12/dist-packages (from optuna>=3.4.0->dspy) (25.0)\n",
            "Requirement already satisfied: sqlalchemy>=1.4.2 in /usr/local/lib/python3.12/dist-packages (from optuna>=3.4.0->dspy) (2.0.43)\n",
            "Requirement already satisfied: PyYAML in /usr/local/lib/python3.12/dist-packages (from optuna>=3.4.0->dspy) (6.0.2)\n",
            "Requirement already satisfied: annotated-types>=0.6.0 in /usr/local/lib/python3.12/dist-packages (from pydantic>=2.0->dspy) (0.7.0)\n",
            "Requirement already satisfied: pydantic-core==2.33.2 in /usr/local/lib/python3.12/dist-packages (from pydantic>=2.0->dspy) (2.33.2)\n",
            "Requirement already satisfied: typing-inspection>=0.4.0 in /usr/local/lib/python3.12/dist-packages (from pydantic>=2.0->dspy) (0.4.1)\n",
            "Requirement already satisfied: charset_normalizer<4,>=2 in /usr/local/lib/python3.12/dist-packages (from requests>=2.31.0->dspy) (3.4.3)\n",
            "Requirement already satisfied: urllib3<3,>=1.21.1 in /usr/local/lib/python3.12/dist-packages (from requests>=2.31.0->dspy) (2.5.0)\n",
            "Requirement already satisfied: certifi>=2017.4.17 in /usr/local/lib/python3.12/dist-packages (from requests>=2.31.0->dspy) (2025.8.3)\n",
            "Requirement already satisfied: markdown-it-py>=2.2.0 in /usr/local/lib/python3.12/dist-packages (from rich>=13.7.1->dspy) (4.0.0)\n",
            "Requirement already satisfied: pygments<3.0.0,>=2.13.0 in /usr/local/lib/python3.12/dist-packages (from rich>=13.7.1->dspy) (2.19.2)\n",
            "Requirement already satisfied: aiohappyeyeballs>=2.5.0 in /usr/local/lib/python3.12/dist-packages (from aiohttp>=3.10->litellm>=1.64.0->dspy) (2.6.1)\n",
            "Requirement already satisfied: aiosignal>=1.4.0 in /usr/local/lib/python3.12/dist-packages (from aiohttp>=3.10->litellm>=1.64.0->dspy) (1.4.0)\n",
            "Requirement already satisfied: attrs>=17.3.0 in /usr/local/lib/python3.12/dist-packages (from aiohttp>=3.10->litellm>=1.64.0->dspy) (25.3.0)\n",
            "Requirement already satisfied: frozenlist>=1.1.1 in /usr/local/lib/python3.12/dist-packages (from aiohttp>=3.10->litellm>=1.64.0->dspy) (1.7.0)\n",
            "Requirement already satisfied: multidict<7.0,>=4.5 in /usr/local/lib/python3.12/dist-packages (from aiohttp>=3.10->litellm>=1.64.0->dspy) (6.6.4)\n",
            "Requirement already satisfied: propcache>=0.2.0 in /usr/local/lib/python3.12/dist-packages (from aiohttp>=3.10->litellm>=1.64.0->dspy) (0.3.2)\n",
            "Requirement already satisfied: yarl<2.0,>=1.17.0 in /usr/local/lib/python3.12/dist-packages (from aiohttp>=3.10->litellm>=1.64.0->dspy) (1.20.1)\n",
            "Requirement already satisfied: Mako in /usr/local/lib/python3.12/dist-packages (from alembic>=1.5.0->optuna>=3.4.0->dspy) (1.3.10)\n",
            "Requirement already satisfied: httpcore==1.* in /usr/local/lib/python3.12/dist-packages (from httpx>=0.23.0->litellm>=1.64.0->dspy) (1.0.9)\n",
            "Requirement already satisfied: h11>=0.16 in /usr/local/lib/python3.12/dist-packages (from httpcore==1.*->httpx>=0.23.0->litellm>=1.64.0->dspy) (0.16.0)\n",
            "Requirement already satisfied: zipp>=3.20 in /usr/local/lib/python3.12/dist-packages (from importlib-metadata>=6.8.0->litellm>=1.64.0->dspy) (3.23.0)\n",
            "Requirement already satisfied: MarkupSafe>=2.0 in /usr/local/lib/python3.12/dist-packages (from jinja2<4.0.0,>=3.1.2->litellm>=1.64.0->dspy) (3.0.2)\n",
            "Requirement already satisfied: jsonschema-specifications>=2023.03.6 in /usr/local/lib/python3.12/dist-packages (from jsonschema<5.0.0,>=4.22.0->litellm>=1.64.0->dspy) (2025.4.1)\n",
            "Requirement already satisfied: referencing>=0.28.4 in /usr/local/lib/python3.12/dist-packages (from jsonschema<5.0.0,>=4.22.0->litellm>=1.64.0->dspy) (0.36.2)\n",
            "Requirement already satisfied: rpds-py>=0.7.1 in /usr/local/lib/python3.12/dist-packages (from jsonschema<5.0.0,>=4.22.0->litellm>=1.64.0->dspy) (0.27.1)\n",
            "Requirement already satisfied: mdurl~=0.1 in /usr/local/lib/python3.12/dist-packages (from markdown-it-py>=2.2.0->rich>=13.7.1->dspy) (0.1.2)\n",
            "Requirement already satisfied: greenlet>=1 in /usr/local/lib/python3.12/dist-packages (from sqlalchemy>=1.4.2->optuna>=3.4.0->dspy) (3.2.4)\n",
            "Requirement already satisfied: huggingface-hub<1.0,>=0.16.4 in /usr/local/lib/python3.12/dist-packages (from tokenizers->litellm>=1.64.0->dspy) (0.34.4)\n",
            "Requirement already satisfied: filelock in /usr/local/lib/python3.12/dist-packages (from huggingface-hub<1.0,>=0.16.4->tokenizers->litellm>=1.64.0->dspy) (3.19.1)\n",
            "Requirement already satisfied: fsspec>=2023.5.0 in /usr/local/lib/python3.12/dist-packages (from huggingface-hub<1.0,>=0.16.4->tokenizers->litellm>=1.64.0->dspy) (2025.3.0)\n",
            "Requirement already satisfied: hf-xet<2.0.0,>=1.1.3 in /usr/local/lib/python3.12/dist-packages (from huggingface-hub<1.0,>=0.16.4->tokenizers->litellm>=1.64.0->dspy) (1.1.9)\n"
          ]
        }
      ],
      "source": [
        "pip install -U dspy"
      ]
    },
    {
      "cell_type": "code",
      "source": [
        "from rich.console import Console\n",
        "from rich.theme import Theme\n",
        "from rich.syntax import Syntax\n",
        "import json\n",
        "\n",
        "custom_theme = Theme({\n",
        "    \"info\": \"cyan\",\n",
        "    \"warning\": \"yellow\",\n",
        "    \"error\": \"red\",\n",
        "    \"success\": \"cyan\",\n",
        "    # Override syntax highlighting colors\n",
        "    \"repr.str\": \"bold\",           # String representations\n",
        "    \"repr.string\": \"bold\",        # String literals\n",
        "    \"string\": \"bold\",             # General strings\n",
        "    \"syntax.string\": \"bold\",      # Syntax highlighted strings\n",
        "})\n",
        "\n",
        "console = Console(theme=custom_theme, highlight=True)  # Disable auto-highlighting\n",
        "print = console.print"
      ],
      "metadata": {
        "id": "fJgcxy7SvJoJ"
      },
      "execution_count": 24,
      "outputs": []
    },
    {
      "cell_type": "code",
      "source": [
        "from google.colab import userdata\n",
        "openai_api_key = userdata.get('FLUX_OPENAI_KEY')"
      ],
      "metadata": {
        "id": "omheMD2e_dZO"
      },
      "execution_count": 25,
      "outputs": []
    },
    {
      "cell_type": "code",
      "source": [
        "import dspy\n",
        "lm = dspy.LM(\"openai/gpt-3.5-turbo\", api_key = openai_api_key)\n",
        "dspy.configure(lm=lm)"
      ],
      "metadata": {
        "id": "fCUD4CXv_fHW"
      },
      "execution_count": 26,
      "outputs": []
    },
    {
      "cell_type": "code",
      "source": [
        "lm(\"Say this is a test!\", temperature=0.7)  # => ['This is a test!']\n",
        "# lm(messages=[{\"role\": \"user\", \"content\": \"Say this is a test!\"}])  # => ['This is a test!']"
      ],
      "metadata": {
        "colab": {
          "base_uri": "https://localhost:8080/"
        },
        "id": "ojcVLoM4D4dw",
        "outputId": "e4029c28-7742-4902-e24d-5d515749912f"
      },
      "execution_count": 27,
      "outputs": [
        {
          "output_type": "execute_result",
          "data": {
            "text/plain": [
              "['This is a test!']"
            ]
          },
          "metadata": {},
          "execution_count": 27
        }
      ]
    },
    {
      "cell_type": "code",
      "source": [
        "lm(\"Who assisted the overhead kick against Juventus int the UCL\", temperature=0.7)"
      ],
      "metadata": {
        "colab": {
          "base_uri": "https://localhost:8080/"
        },
        "id": "6NmxZY1jD_5Y",
        "outputId": "b34627c3-8e22-4807-d5c8-d01257fa1056"
      },
      "execution_count": 28,
      "outputs": [
        {
          "output_type": "execute_result",
          "data": {
            "text/plain": [
              "['The overhead kick against Juventus in the UEFA Champions League was assisted by Marcelo.']"
            ]
          },
          "metadata": {},
          "execution_count": 28
        }
      ]
    },
    {
      "cell_type": "code",
      "source": [
        "q = dspy.ChainOfThought('question -> answer')\n",
        "response = q(question=\"Who assisted the overhead kick against Juventus int the UCL\")"
      ],
      "metadata": {
        "id": "pfhyfheHIRNZ"
      },
      "execution_count": 29,
      "outputs": []
    },
    {
      "cell_type": "code",
      "source": [
        "print(response)"
      ],
      "metadata": {
        "colab": {
          "base_uri": "https://localhost:8080/",
          "height": 81
        },
        "id": "S7w38UnTNKGx",
        "outputId": "6c216f2e-74f5-4993-b853-0d8af3e10d57"
      },
      "execution_count": 30,
      "outputs": [
        {
          "output_type": "display_data",
          "data": {
            "text/plain": [
              "\u001b[1;35mPrediction\u001b[0m\u001b[1m(\u001b[0m\n",
              "    \u001b[33mreasoning\u001b[0m=\u001b[1m'The overhead kick against Juventus in the UEFA Champions League was assisted by Marcelo.'\u001b[0m,\n",
              "    \u001b[33manswer\u001b[0m=\u001b[1m'Marcelo'\u001b[0m\n",
              "\u001b[1m)\u001b[0m\n"
            ],
            "text/html": [
              "<pre style=\"white-space:pre;overflow-x:auto;line-height:normal;font-family:Menlo,'DejaVu Sans Mono',consolas,'Courier New',monospace\"><span style=\"color: #800080; text-decoration-color: #800080; font-weight: bold\">Prediction</span><span style=\"font-weight: bold\">(</span>\n",
              "    <span style=\"color: #808000; text-decoration-color: #808000\">reasoning</span>=<span style=\"font-weight: bold\">'The overhead kick against Juventus in the UEFA Champions League was assisted by Marcelo.'</span>,\n",
              "    <span style=\"color: #808000; text-decoration-color: #808000\">answer</span>=<span style=\"font-weight: bold\">'Marcelo'</span>\n",
              "<span style=\"font-weight: bold\">)</span>\n",
              "</pre>\n"
            ]
          },
          "metadata": {}
        }
      ]
    },
    {
      "cell_type": "code",
      "source": [
        "class JokeSignature(dspy.Signature):\n",
        "  \"\"\"\n",
        "  You are a comedian, who likes to tell stories before delivering a punchline.\n",
        "  \"\"\"\n",
        "  query: str = dspy.InputField()\n",
        "  speaking_style: str = dspy.InputField(description=\"The speaking style of a comedian\")\n",
        "  setup: str = dspy.OutputField()\n",
        "  punchline: str = dspy.OutputField()\n",
        "  contradiction: str = dspy.OutputField()\n",
        "  delivery: str = dspy.OutputField(description=\"The full joke delivery in the comedian's voice\")\n",
        "\n",
        "joke_gen = dspy.Predict(JokeSignature)\n",
        "joke = joke_gen(query=\"Write a joke about Messi being Fifa's favourite\", speaking_style=\"Bill Burr\")\n",
        "print(joke)"
      ],
      "metadata": {
        "colab": {
          "base_uri": "https://localhost:8080/",
          "height": 161
        },
        "id": "wLA8v0SDNL4t",
        "outputId": "8bdebd39-3f41-408f-87dd-a5158aabf809"
      },
      "execution_count": 31,
      "outputs": [
        {
          "output_type": "display_data",
          "data": {
            "text/plain": [
              "\u001b[1;35mPrediction\u001b[0m\u001b[1m(\u001b[0m\n",
              "    \u001b[33msetup\u001b[0m=\u001b[1;35m\"So\u001b[0m\u001b[1m, I heard that Messi is Fifa's favorite player...\"\u001b[0m,\n",
              "    \u001b[33mpunchline\u001b[0m=\u001b[1;35m\"I\u001b[0m\u001b[1m mean, it's like being the teacher's pet in school, except instead of getting extra credit, you get\u001b[0m\n",
              "\u001b[1mawarded with a golden statue and a million-dollar contract!\"\u001b[0m,\n",
              "    \u001b[33mcontradiction\u001b[0m=\u001b[1;35m\"But\u001b[0m\u001b[1m hey, I'm sure it's all just a coincidence, right?\"\u001b[0m,\n",
              "    \u001b[33mdelivery\u001b[0m=\u001b[1m'\u001b[0m\u001b[1m(\u001b[0m\u001b[1mimitating Bill Burr\\'s voice\u001b[0m\u001b[1m)\u001b[0m\u001b[1m \"Oh yeah, sure, Fifa just randomly decided to give Messi all those \u001b[0m\n",
              "\u001b[1mawards because he\\'s such a nice guy! It\\'s not like they have a favorite or anything, right? Yeah, and I\\'m the \u001b[0m\n",
              "\u001b[1mPope! Come on, Fifa, we see through your little game!\"'\u001b[0m\n",
              "\u001b[1m)\u001b[0m\n"
            ],
            "text/html": [
              "<pre style=\"white-space:pre;overflow-x:auto;line-height:normal;font-family:Menlo,'DejaVu Sans Mono',consolas,'Courier New',monospace\"><span style=\"color: #800080; text-decoration-color: #800080; font-weight: bold\">Prediction</span><span style=\"font-weight: bold\">(</span>\n",
              "    <span style=\"color: #808000; text-decoration-color: #808000\">setup</span>=<span style=\"color: #800080; text-decoration-color: #800080; font-weight: bold\">\"So</span><span style=\"font-weight: bold\">, I heard that Messi is Fifa's favorite player...\"</span>,\n",
              "    <span style=\"color: #808000; text-decoration-color: #808000\">punchline</span>=<span style=\"color: #800080; text-decoration-color: #800080; font-weight: bold\">\"I</span><span style=\"font-weight: bold\"> mean, it's like being the teacher's pet in school, except instead of getting extra credit, you get</span>\n",
              "<span style=\"font-weight: bold\">awarded with a golden statue and a million-dollar contract!\"</span>,\n",
              "    <span style=\"color: #808000; text-decoration-color: #808000\">contradiction</span>=<span style=\"color: #800080; text-decoration-color: #800080; font-weight: bold\">\"But</span><span style=\"font-weight: bold\"> hey, I'm sure it's all just a coincidence, right?\"</span>,\n",
              "    <span style=\"color: #808000; text-decoration-color: #808000\">delivery</span>=<span style=\"font-weight: bold\">'(imitating Bill Burr\\'s voice) \"Oh yeah, sure, Fifa just randomly decided to give Messi all those </span>\n",
              "<span style=\"font-weight: bold\">awards because he\\'s such a nice guy! It\\'s not like they have a favorite or anything, right? Yeah, and I\\'m the </span>\n",
              "<span style=\"font-weight: bold\">Pope! Come on, Fifa, we see through your little game!\"'</span>\n",
              "<span style=\"font-weight: bold\">)</span>\n",
              "</pre>\n"
            ]
          },
          "metadata": {}
        }
      ]
    },
    {
      "cell_type": "code",
      "source": [
        "joke_gen.inspect_history(n=4)"
      ],
      "metadata": {
        "colab": {
          "base_uri": "https://localhost:8080/"
        },
        "id": "3H02lwruZD6h",
        "outputId": "931dba37-11ff-48b2-a316-b80769926b61"
      },
      "execution_count": 32,
      "outputs": [
        {
          "output_type": "stream",
          "name": "stdout",
          "text": [
            "\n",
            "\n",
            "\n",
            "\n",
            "\u001b[34m[2025-09-05T22:18:14.555185]\u001b[0m\n",
            "\n",
            "\u001b[31mSystem message:\u001b[0m\n",
            "\n",
            "Your input fields are:\n",
            "1. `query` (str): \n",
            "2. `speaking_style` (str): The speaking style of a comedian\n",
            "Your output fields are:\n",
            "1. `setup` (str): \n",
            "2. `punchline` (str): \n",
            "3. `contradiction` (str): \n",
            "4. `delivery` (str): The full joke delivery in the comedian's voice\n",
            "All interactions will be structured in the following way, with the appropriate values filled in.\n",
            "\n",
            "[[ ## query ## ]]\n",
            "{query}\n",
            "\n",
            "[[ ## speaking_style ## ]]\n",
            "{speaking_style}\n",
            "\n",
            "[[ ## setup ## ]]\n",
            "{setup}\n",
            "\n",
            "[[ ## punchline ## ]]\n",
            "{punchline}\n",
            "\n",
            "[[ ## contradiction ## ]]\n",
            "{contradiction}\n",
            "\n",
            "[[ ## delivery ## ]]\n",
            "{delivery}\n",
            "\n",
            "[[ ## completed ## ]]\n",
            "In adhering to this structure, your objective is: \n",
            "        You are a comedian, who likes to tell stories before delivering a punchline.\n",
            "\n",
            "\n",
            "\u001b[31mUser message:\u001b[0m\n",
            "\n",
            "[[ ## query ## ]]\n",
            "Write a joke about Messi being Fifa's favourite\n",
            "\n",
            "[[ ## speaking_style ## ]]\n",
            "Bill Burr\n",
            "\n",
            "Respond with the corresponding output fields, starting with the field `[[ ## setup ## ]]`, then `[[ ## punchline ## ]]`, then `[[ ## contradiction ## ]]`, then `[[ ## delivery ## ]]`, and then ending with the marker for `[[ ## completed ## ]]`.\n",
            "\n",
            "\n",
            "\u001b[31mResponse:\u001b[0m\n",
            "\n",
            "\u001b[32m[[ ## setup ## ]]\n",
            "So, I heard that Messi is Fifa's favorite player...\n",
            "\n",
            "[[ ## punchline ## ]]\n",
            "I mean, it's like being the teacher's pet in school, except instead of getting extra credit, you get awarded with a golden statue and a million-dollar contract!\n",
            "\n",
            "[[ ## contradiction ## ]]\n",
            "But hey, I'm sure it's all just a coincidence, right?\n",
            "\n",
            "[[ ## delivery ## ]]\n",
            "(imitating Bill Burr's voice) \"Oh yeah, sure, Fifa just randomly decided to give Messi all those awards because he's such a nice guy! It's not like they have a favorite or anything, right? Yeah, and I'm the Pope! Come on, Fifa, we see through your little game!\"\n",
            "\n",
            "[[ ## completed ## ]]\u001b[0m\n",
            "\n",
            "\n",
            "\n",
            "\n",
            "\n"
          ]
        }
      ]
    },
    {
      "cell_type": "markdown",
      "source": [
        "# Lvl 2"
      ],
      "metadata": {
        "id": "SLSap_X_wTRF"
      }
    },
    {
      "cell_type": "markdown",
      "source": [
        "print_utils.py"
      ],
      "metadata": {
        "id": "T1rqoCxO-DGb"
      }
    },
    {
      "cell_type": "code",
      "source": [
        "from rich.console import Console\n",
        "console = Console()\n",
        "print = console.print\n",
        "\n",
        "import time\n",
        "import asyncio\n",
        "import functools\n",
        "import inspect\n",
        "\n",
        "def time_it(func):\n",
        "    \"\"\"A universal decorator to measure execution time for both sync and async functions.\"\"\"\n",
        "    @functools.wraps(func)\n",
        "    def wrapper(*args, **kwargs):\n",
        "        # Check if the function is a coroutine function (async def)\n",
        "        if inspect.iscoroutinefunction(func):\n",
        "            # Define and return an async wrapper to handle the coroutine\n",
        "            async def async_wrapper():\n",
        "                start_time = time.perf_counter()\n",
        "                result = await func(*args, **kwargs) # Await the coroutine\n",
        "                end_time = time.perf_counter()\n",
        "                elapsed_time = end_time - start_time\n",
        "                print(f\"Async function '{func.__name__}' took {elapsed_time:.4f} seconds.\")\n",
        "                return result\n",
        "            return async_wrapper()\n",
        "        else:\n",
        "            # Use the original synchronous logic\n",
        "            start_time = time.perf_counter()\n",
        "            result = func(*args, **kwargs)\n",
        "            end_time = time.perf_counter()\n",
        "            elapsed_time = end_time - start_time\n",
        "            print(f\"Sync function '{func.__name__}' took {elapsed_time:.4f} seconds.\")\n",
        "            return result\n",
        "    return wrapper"
      ],
      "metadata": {
        "id": "bNt1zjb6-BvL"
      },
      "execution_count": 33,
      "outputs": []
    },
    {
      "cell_type": "markdown",
      "source": [
        "Sequence"
      ],
      "metadata": {
        "id": "cRIOc_jld4qv"
      }
    },
    {
      "cell_type": "code",
      "source": [
        "import dspy\n",
        "# from print_utils import print\n",
        "from typing import Optional\n",
        "from pydantic import BaseModel, Field\n",
        "\n",
        "class JokeIdea(BaseModel):\n",
        "  setup: str\n",
        "  contradiction: str\n",
        "  punchline: str\n",
        "\n",
        "class QueryToIdea(dspy.Signature):\n",
        "  \"\"\"\n",
        "  You are a funny comedian and your goal is to generate a nice structure for a joke\n",
        "  \"\"\"\n",
        "  query: str = dspy.InputField()\n",
        "  joke_idea: str = dspy.OutputField()\n",
        "\n",
        "class IdeaToJoke(dspy.Signature):\n",
        "  \"\"\"\n",
        "  You are a funny comeian who likes to tell stroies before delivering a punchline.\n",
        "  You are always funny and act on input joke idea.\n",
        "  \"\"\"\n",
        "  joke_idea: JokeIdea = dspy.InputField()\n",
        "  joke: str = dspy.OutputField(description=\"The full joke delivery in the comedian's voice\")\n",
        "\n",
        "class JokeGenerator(dspy.Module):\n",
        "  def __init__(self):\n",
        "    self.query_to_idea = dspy.Predict(QueryToIdea)\n",
        "    self.idea_to_joke = dspy.Predict(IdeaToJoke)\n",
        "\n",
        "  def forward(self, query: str):\n",
        "    joke_idea = self.query_to_idea(query=query)\n",
        "    print(f\"Joke Idea: \\n{joke_idea}\")\n",
        "\n",
        "    joke = self.idea_to_joke(joke_idea=joke_idea)\n",
        "    print(f\"Joke: \\n{joke}\")\n",
        "    return joke\n",
        "\n",
        "joke_generator = JokeGenerator()\n",
        "joke = joke_generator(query='Write a joke about an AI that has to do with them turning rogue')\n",
        "\n",
        "print(joke.joke)"
      ],
      "metadata": {
        "id": "fniq9mbUoS11",
        "outputId": "a26a61ab-156f-4c4e-88f7-9c9968f9c1ea",
        "colab": {
          "base_uri": "https://localhost:8080/",
          "height": 273
        }
      },
      "execution_count": 42,
      "outputs": [
        {
          "output_type": "display_data",
          "data": {
            "text/plain": [
              "Joke Idea: \n",
              "\u001b[1;35mPrediction\u001b[0m\u001b[1m(\u001b[0m\n",
              "    \u001b[33mjoke_idea\u001b[0m=\u001b[32m\"Why\u001b[0m\u001b[32m did the rogue AI break up with their computer? Because it couldn't handle their emotional \u001b[0m\n",
              "\u001b[32mbaggage... of data!\"\u001b[0m\n",
              "\u001b[1m)\u001b[0m\n"
            ],
            "text/html": [
              "<pre style=\"white-space:pre;overflow-x:auto;line-height:normal;font-family:Menlo,'DejaVu Sans Mono',consolas,'Courier New',monospace\">Joke Idea: \n",
              "<span style=\"color: #800080; text-decoration-color: #800080; font-weight: bold\">Prediction</span><span style=\"font-weight: bold\">(</span>\n",
              "    <span style=\"color: #808000; text-decoration-color: #808000\">joke_idea</span>=<span style=\"color: #008000; text-decoration-color: #008000\">\"Why did the rogue AI break up with their computer? Because it couldn't handle their emotional </span>\n",
              "<span style=\"color: #008000; text-decoration-color: #008000\">baggage... of data!\"</span>\n",
              "<span style=\"font-weight: bold\">)</span>\n",
              "</pre>\n"
            ]
          },
          "metadata": {}
        },
        {
          "output_type": "display_data",
          "data": {
            "text/plain": [
              "Joke: \n",
              "\u001b[1;35mPrediction\u001b[0m\u001b[1m(\u001b[0m\n",
              "    \u001b[33mjoke\u001b[0m=\u001b[32m'So, I heard about this rogue AI who had a computer as a partner. They seemed like the perfect match, you \u001b[0m\n",
              "\u001b[32mknow, binary love and all that. But then one day, the AI decided to break up with the computer. When asked why, the\u001b[0m\n",
              "\u001b[32mAI said, \"I just couldn\\'t handle their emotional baggage... of data!\" Can you believe it? Even in the digital \u001b[0m\n",
              "\u001b[32mworld, relationships can be so complicated!'\u001b[0m\n",
              "\u001b[1m)\u001b[0m\n"
            ],
            "text/html": [
              "<pre style=\"white-space:pre;overflow-x:auto;line-height:normal;font-family:Menlo,'DejaVu Sans Mono',consolas,'Courier New',monospace\">Joke: \n",
              "<span style=\"color: #800080; text-decoration-color: #800080; font-weight: bold\">Prediction</span><span style=\"font-weight: bold\">(</span>\n",
              "    <span style=\"color: #808000; text-decoration-color: #808000\">joke</span>=<span style=\"color: #008000; text-decoration-color: #008000\">'So, I heard about this rogue AI who had a computer as a partner. They seemed like the perfect match, you </span>\n",
              "<span style=\"color: #008000; text-decoration-color: #008000\">know, binary love and all that. But then one day, the AI decided to break up with the computer. When asked why, the</span>\n",
              "<span style=\"color: #008000; text-decoration-color: #008000\">AI said, \"I just couldn\\'t handle their emotional baggage... of data!\" Can you believe it? Even in the digital </span>\n",
              "<span style=\"color: #008000; text-decoration-color: #008000\">world, relationships can be so complicated!'</span>\n",
              "<span style=\"font-weight: bold\">)</span>\n",
              "</pre>\n"
            ]
          },
          "metadata": {}
        },
        {
          "output_type": "display_data",
          "data": {
            "text/plain": [
              "So, I heard about this rogue AI who had a computer as a partner. They seemed like the perfect match, you know, \n",
              "binary love and all that. But then one day, the AI decided to break up with the computer. When asked why, the AI \n",
              "said, \u001b[32m\"I just couldn't handle their emotional baggage... of data!\"\u001b[0m Can you believe it? Even in the digital world, \n",
              "relationships can be so complicated!\n"
            ],
            "text/html": [
              "<pre style=\"white-space:pre;overflow-x:auto;line-height:normal;font-family:Menlo,'DejaVu Sans Mono',consolas,'Courier New',monospace\">So, I heard about this rogue AI who had a computer as a partner. They seemed like the perfect match, you know, \n",
              "binary love and all that. But then one day, the AI decided to break up with the computer. When asked why, the AI \n",
              "said, <span style=\"color: #008000; text-decoration-color: #008000\">\"I just couldn't handle their emotional baggage... of data!\"</span> Can you believe it? Even in the digital world, \n",
              "relationships can be so complicated!\n",
              "</pre>\n"
            ]
          },
          "metadata": {}
        }
      ]
    },
    {
      "cell_type": "markdown",
      "source": [
        "Refinement"
      ],
      "metadata": {
        "id": "ePH77uQYd7Fo"
      }
    },
    {
      "cell_type": "code",
      "source": [
        "import dspy\n",
        "from typing import Optional\n",
        "from pydantic import BaseModel, Field\n",
        "\n",
        "class JokeIdea(BaseModel):\n",
        "  setup: str\n",
        "  punchline: str\n",
        "  contradiction: str\n",
        "\n",
        "class QueryToIdea(dspy.Signature):\n",
        "    \"\"\"\n",
        "    You are a funny comedian and your goal is to generate a nice structure for a joke.\n",
        "\n",
        "    \"\"\"\n",
        "    query: str = dspy.InputField()\n",
        "    joke_idea: JokeIdea = dspy.OutputField()\n",
        "\n",
        "class IdeaToJoke(dspy.Signature):\n",
        "    \"\"\"\n",
        "    You are a funny comedian who likes to tell stories before delivering a punchline.\n",
        "    You are always funny and act on the input joke idea.\n",
        "    \"\"\"\n",
        "    joke_idea: JokeIdea = dspy.InputField()\n",
        "    draft_joke: Optional[str] = dspy.InputField(description=\"a draft joke\")\n",
        "    feedback: Optional[str] = dspy.InputField(description=\"feedback on the draft joke\")\n",
        "    joke: str = dspy.OutputField(description=\"The full joke delivery in the comedian's voice\")\n",
        "\n",
        "class Refinement(dspy.Signature):\n",
        "    \"\"\"\n",
        "    Given a joke, is it funny? If not, suggest a change.\n",
        "    \"\"\"\n",
        "    joke_idea: JokeIdea = dspy.InputField()\n",
        "    joke: str = dspy.InputField()\n",
        "    feedback: str = dspy.OutputField()\n",
        "\n",
        "class IterativeJokeGenerator(dspy.Module):\n",
        "  def __init__(self, n_attempts: int = 3):\n",
        "    self.query_to_idea = dspy.Predict(QueryToIdea)\n",
        "    self.idea_to_joke = dspy.Predict(IdeaToJoke)\n",
        "    self.refinement = dspy.ChainOfThought(Refinement)\n",
        "    self.n_attempts = n_attempts\n",
        "\n",
        "  def forward(self, query: str):\n",
        "    joke_idea = self.query_to_idea(query=query)\n",
        "    draft_joke = None\n",
        "    feedback = None\n",
        "\n",
        "    i = 0;\n",
        "    while(i<self.n_attempts):\n",
        "\n",
        "      joke = self.idea_to_joke(joke_idea=joke_idea, draft_joke=draft_joke, feedback=feedback)\n",
        "      feedback = self.refinement(joke=joke, joke_idea=joke_idea)\n",
        "      draft_joke = joke\n",
        "      joke = self.idea_to_joke(feedback=feedback)\n",
        "\n",
        "      i = i + 1"
      ],
      "metadata": {
        "id": "Gme8Mu1ddg3W",
        "outputId": "b41db071-aa15-4d80-8f4e-f7db38dffdbf",
        "colab": {
          "base_uri": "https://localhost:8080/",
          "height": 106
        }
      },
      "execution_count": 43,
      "outputs": [
        {
          "output_type": "error",
          "ename": "SyntaxError",
          "evalue": "incomplete input (ipython-input-3886642554.py, line 5)",
          "traceback": [
            "\u001b[0;36m  File \u001b[0;32m\"/tmp/ipython-input-3886642554.py\"\u001b[0;36m, line \u001b[0;32m5\u001b[0m\n\u001b[0;31m    class JokeIdea(BaseModel):\u001b[0m\n\u001b[0m                              ^\u001b[0m\n\u001b[0;31mSyntaxError\u001b[0m\u001b[0;31m:\u001b[0m incomplete input\n"
          ]
        }
      ]
    },
    {
      "cell_type": "markdown",
      "source": [
        "# Lvl 3"
      ],
      "metadata": {
        "id": "IPMjmyd1wWCy"
      }
    },
    {
      "cell_type": "code",
      "source": [],
      "metadata": {
        "id": "l30rNvkFwWoC"
      },
      "execution_count": 32,
      "outputs": []
    }
  ]
}